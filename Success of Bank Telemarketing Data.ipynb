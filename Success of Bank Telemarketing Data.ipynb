{
 "cells": [
  {
   "cell_type": "markdown",
   "id": "732b16f9-bc55-4744-bd37-b92fbb03b183",
   "metadata": {},
   "source": [
    "<h2>분석의 목적</h2>"
   ]
  },
  {
   "cell_type": "markdown",
   "id": "a72c656a-ed2a-4a75-acc8-0502d3f9427a",
   "metadata": {},
   "source": [
    "주어진 데이터는 은행에서 시행하는 텔레마케팅을 통해 장기예금상품을 상품가입을 했는 지에 대한 데이터이다.<br>\n",
    "보다 효율적인 마케팅을 위해 고객에 대한 정보가 주어졌을 때, 해당 고객이 상품가입을 할 지에 대한 예측을 하는 모델을 만드는 것을 목표로 한다."
   ]
  },
  {
   "cell_type": "markdown",
   "id": "1e8c0139-d443-43f3-9887-4bdc501087c6",
   "metadata": {},
   "source": [
    "<h3>데이터 출처</h3>"
   ]
  },
  {
   "cell_type": "markdown",
   "id": "fb085f8d-0755-4fba-b358-4438b189e9e7",
   "metadata": {},
   "source": [
    "활용한 데이터는 머신러닝 경진대회 플랫폼 캐글(Kaggle)에 게시된 'Success of Bank Telemarketing Data'의 데이터이다.<br>\n",
    "해당 데이터는 2019년 12월 19일에 업로드가 되었으며, 1.65MB의 크기를 가진 csv파일이다.<br><br>\n",
    "출처 - https://www.kaggle.com/raosuny/success-of-bank-telemarketing-data"
   ]
  },
  {
   "cell_type": "markdown",
   "id": "825ac108-bdcd-4705-b693-d59f60509df0",
   "metadata": {},
   "source": [
    "<h2>탐색적 데이터분석(EDA)</h2>"
   ]
  },
  {
   "cell_type": "markdown",
   "id": "89fa6657-e9f9-430a-b388-6b22e02bff6e",
   "metadata": {},
   "source": [
    "<h3>모듈 및 데이터 로딩</h3>"
   ]
  },
  {
   "cell_type": "code",
   "execution_count": 1,
   "id": "945a1b17-8066-40dc-a588-ed01c94d169c",
   "metadata": {},
   "outputs": [],
   "source": [
    "import pandas as pd\n",
    "import numpy as np\n",
    "\n",
    "import matplotlib.pyplot as plt\n",
    "import seaborn as sns\n",
    "\n",
    "import warnings\n",
    "warnings.filterwarnings(action='ignore')"
   ]
  },
  {
   "cell_type": "code",
   "execution_count": 2,
   "id": "994ccc69-8bec-44bf-a10b-dfc15364ddb5",
   "metadata": {},
   "outputs": [],
   "source": [
    "data = pd.read_csv('./Data/Alpha_bank.csv')"
   ]
  },
  {
   "cell_type": "markdown",
   "id": "a939be6b-d64a-4ada-9753-202a1cb09ab6",
   "metadata": {},
   "source": [
    "<h3>데이터 확인</h3>"
   ]
  },
  {
   "cell_type": "code",
   "execution_count": 3,
   "id": "c035572b-8cdf-472e-a4ff-00690d780ccd",
   "metadata": {},
   "outputs": [
    {
     "data": {
      "text/plain": [
       "(30477, 8)"
      ]
     },
     "execution_count": 3,
     "metadata": {},
     "output_type": "execute_result"
    }
   ],
   "source": [
    "data.shape"
   ]
  },
  {
   "cell_type": "markdown",
   "id": "fd62e1cc-d623-4337-a11d-dc8349b42917",
   "metadata": {},
   "source": [
    "데이터는 8개의 특성으로 이루어져 있으며, 총 30477개의 데이터가 존재한다."
   ]
  },
  {
   "cell_type": "code",
   "execution_count": 4,
   "id": "99b805f8-24a1-48c0-9c41-54632f6d09f5",
   "metadata": {},
   "outputs": [
    {
     "data": {
      "text/html": [
       "<div>\n",
       "<style scoped>\n",
       "    .dataframe tbody tr th:only-of-type {\n",
       "        vertical-align: middle;\n",
       "    }\n",
       "\n",
       "    .dataframe tbody tr th {\n",
       "        vertical-align: top;\n",
       "    }\n",
       "\n",
       "    .dataframe thead th {\n",
       "        text-align: right;\n",
       "    }\n",
       "</style>\n",
       "<table border=\"1\" class=\"dataframe\">\n",
       "  <thead>\n",
       "    <tr style=\"text-align: right;\">\n",
       "      <th></th>\n",
       "      <th>Age</th>\n",
       "      <th>Job</th>\n",
       "      <th>Marital_Status</th>\n",
       "      <th>Education</th>\n",
       "      <th>Default_Credit</th>\n",
       "      <th>Housing_Loan</th>\n",
       "      <th>Personal_Loan</th>\n",
       "      <th>Subscribed</th>\n",
       "    </tr>\n",
       "  </thead>\n",
       "  <tbody>\n",
       "    <tr>\n",
       "      <th>0</th>\n",
       "      <td>56</td>\n",
       "      <td>housemaid</td>\n",
       "      <td>married</td>\n",
       "      <td>Primary_Education</td>\n",
       "      <td>no</td>\n",
       "      <td>no</td>\n",
       "      <td>no</td>\n",
       "      <td>no</td>\n",
       "    </tr>\n",
       "    <tr>\n",
       "      <th>1</th>\n",
       "      <td>37</td>\n",
       "      <td>services</td>\n",
       "      <td>married</td>\n",
       "      <td>Secondary_Education</td>\n",
       "      <td>no</td>\n",
       "      <td>yes</td>\n",
       "      <td>no</td>\n",
       "      <td>no</td>\n",
       "    </tr>\n",
       "    <tr>\n",
       "      <th>2</th>\n",
       "      <td>40</td>\n",
       "      <td>admin.</td>\n",
       "      <td>married</td>\n",
       "      <td>Primary_Education</td>\n",
       "      <td>no</td>\n",
       "      <td>no</td>\n",
       "      <td>no</td>\n",
       "      <td>no</td>\n",
       "    </tr>\n",
       "    <tr>\n",
       "      <th>3</th>\n",
       "      <td>56</td>\n",
       "      <td>services</td>\n",
       "      <td>married</td>\n",
       "      <td>Secondary_Education</td>\n",
       "      <td>no</td>\n",
       "      <td>no</td>\n",
       "      <td>yes</td>\n",
       "      <td>no</td>\n",
       "    </tr>\n",
       "    <tr>\n",
       "      <th>4</th>\n",
       "      <td>59</td>\n",
       "      <td>admin.</td>\n",
       "      <td>married</td>\n",
       "      <td>Professional_Education</td>\n",
       "      <td>no</td>\n",
       "      <td>no</td>\n",
       "      <td>no</td>\n",
       "      <td>no</td>\n",
       "    </tr>\n",
       "    <tr>\n",
       "      <th>5</th>\n",
       "      <td>24</td>\n",
       "      <td>technician</td>\n",
       "      <td>single</td>\n",
       "      <td>Professional_Education</td>\n",
       "      <td>no</td>\n",
       "      <td>yes</td>\n",
       "      <td>no</td>\n",
       "      <td>no</td>\n",
       "    </tr>\n",
       "    <tr>\n",
       "      <th>6</th>\n",
       "      <td>25</td>\n",
       "      <td>services</td>\n",
       "      <td>single</td>\n",
       "      <td>Secondary_Education</td>\n",
       "      <td>no</td>\n",
       "      <td>yes</td>\n",
       "      <td>no</td>\n",
       "      <td>no</td>\n",
       "    </tr>\n",
       "    <tr>\n",
       "      <th>7</th>\n",
       "      <td>25</td>\n",
       "      <td>services</td>\n",
       "      <td>single</td>\n",
       "      <td>Secondary_Education</td>\n",
       "      <td>no</td>\n",
       "      <td>yes</td>\n",
       "      <td>no</td>\n",
       "      <td>no</td>\n",
       "    </tr>\n",
       "    <tr>\n",
       "      <th>8</th>\n",
       "      <td>29</td>\n",
       "      <td>blue-collar</td>\n",
       "      <td>single</td>\n",
       "      <td>Secondary_Education</td>\n",
       "      <td>no</td>\n",
       "      <td>no</td>\n",
       "      <td>yes</td>\n",
       "      <td>no</td>\n",
       "    </tr>\n",
       "    <tr>\n",
       "      <th>9</th>\n",
       "      <td>57</td>\n",
       "      <td>housemaid</td>\n",
       "      <td>divorced</td>\n",
       "      <td>Primary_Education</td>\n",
       "      <td>no</td>\n",
       "      <td>yes</td>\n",
       "      <td>no</td>\n",
       "      <td>no</td>\n",
       "    </tr>\n",
       "  </tbody>\n",
       "</table>\n",
       "</div>"
      ],
      "text/plain": [
       "   Age          Job Marital_Status               Education Default_Credit  \\\n",
       "0   56    housemaid        married       Primary_Education             no   \n",
       "1   37     services        married     Secondary_Education             no   \n",
       "2   40       admin.        married       Primary_Education             no   \n",
       "3   56     services        married     Secondary_Education             no   \n",
       "4   59       admin.        married  Professional_Education             no   \n",
       "5   24   technician         single  Professional_Education             no   \n",
       "6   25     services         single     Secondary_Education             no   \n",
       "7   25     services         single     Secondary_Education             no   \n",
       "8   29  blue-collar         single     Secondary_Education             no   \n",
       "9   57    housemaid       divorced       Primary_Education             no   \n",
       "\n",
       "  Housing_Loan Personal_Loan Subscribed  \n",
       "0           no            no         no  \n",
       "1          yes            no         no  \n",
       "2           no            no         no  \n",
       "3           no           yes         no  \n",
       "4           no            no         no  \n",
       "5          yes            no         no  \n",
       "6          yes            no         no  \n",
       "7          yes            no         no  \n",
       "8           no           yes         no  \n",
       "9          yes            no         no  "
      ]
     },
     "execution_count": 4,
     "metadata": {},
     "output_type": "execute_result"
    }
   ],
   "source": [
    "data.head(10)"
   ]
  },
  {
   "cell_type": "code",
   "execution_count": 5,
   "id": "3cc0c9cf-dcbf-4ddd-80ea-a2f351f17ad7",
   "metadata": {},
   "outputs": [
    {
     "name": "stdout",
     "output_type": "stream",
     "text": [
      "<class 'pandas.core.frame.DataFrame'>\n",
      "RangeIndex: 30477 entries, 0 to 30476\n",
      "Data columns (total 8 columns):\n",
      " #   Column          Non-Null Count  Dtype \n",
      "---  ------          --------------  ----- \n",
      " 0   Age             30477 non-null  int64 \n",
      " 1   Job             30477 non-null  object\n",
      " 2   Marital_Status  30477 non-null  object\n",
      " 3   Education       30477 non-null  object\n",
      " 4   Default_Credit  30477 non-null  object\n",
      " 5   Housing_Loan    30477 non-null  object\n",
      " 6   Personal_Loan   30477 non-null  object\n",
      " 7   Subscribed      30477 non-null  object\n",
      "dtypes: int64(1), object(7)\n",
      "memory usage: 1.9+ MB\n"
     ]
    }
   ],
   "source": [
    "data.info()"
   ]
  },
  {
   "cell_type": "markdown",
   "id": "4b3a3cb3-c0f4-493c-939b-51b01c341eaf",
   "metadata": {},
   "source": [
    "8개의 특성 모두 결측값이 없으며 8개의 특성 중 정수형 변수가 1개, 문자열 변수가 7개로 이루어져 있다.<br>\n",
    "그 중 'Default_Credit', 'Housing_Loan', 'Personal_Loan', 'Subscribed' 변수는 yes, no로 이루어진 이진 변수임을 확인할 수 있다.<br>\n",
    "분석의 목적을 고려하면 실제 가입여부를 알려주는 'Subscribed'가 target이 될 것이라 판단했다."
   ]
  },
  {
   "cell_type": "markdown",
   "id": "6f8f849d-8167-4fe1-9899-d531e5f44210",
   "metadata": {},
   "source": [
    "<h3>데이터 설명</h3>"
   ]
  },
  {
   "cell_type": "markdown",
   "id": "2f238d80-89a4-40c5-bd12-5b45a3029f92",
   "metadata": {},
   "source": [
    "Age : 고객의 나이<br>\n",
    "Job : 고객의 직업<br>\n",
    "Marital_Status : 고객의 결혼여부<br>\n",
    "Education : 고객의 교육수준<br>\n",
    "Default_Credit : 신용파산 여부<br>\n",
    "Housing_Loan : 주택구입 자금대출 여부<br>\n",
    "Personal_Loan : 개인대출 여부<br>\n",
    "Subscribed : 상품가입 여부"
   ]
  },
  {
   "cell_type": "code",
   "execution_count": 6,
   "id": "96b0931e-1ab2-4125-875a-3d29b249156d",
   "metadata": {},
   "outputs": [
    {
     "data": {
      "text/html": [
       "<div>\n",
       "<style scoped>\n",
       "    .dataframe tbody tr th:only-of-type {\n",
       "        vertical-align: middle;\n",
       "    }\n",
       "\n",
       "    .dataframe tbody tr th {\n",
       "        vertical-align: top;\n",
       "    }\n",
       "\n",
       "    .dataframe thead th {\n",
       "        text-align: right;\n",
       "    }\n",
       "</style>\n",
       "<table border=\"1\" class=\"dataframe\">\n",
       "  <thead>\n",
       "    <tr style=\"text-align: right;\">\n",
       "      <th></th>\n",
       "      <th>Age</th>\n",
       "    </tr>\n",
       "  </thead>\n",
       "  <tbody>\n",
       "    <tr>\n",
       "      <th>count</th>\n",
       "      <td>30477.000000</td>\n",
       "    </tr>\n",
       "    <tr>\n",
       "      <th>mean</th>\n",
       "      <td>39.028120</td>\n",
       "    </tr>\n",
       "    <tr>\n",
       "      <th>std</th>\n",
       "      <td>10.333885</td>\n",
       "    </tr>\n",
       "    <tr>\n",
       "      <th>min</th>\n",
       "      <td>17.000000</td>\n",
       "    </tr>\n",
       "    <tr>\n",
       "      <th>25%</th>\n",
       "      <td>31.000000</td>\n",
       "    </tr>\n",
       "    <tr>\n",
       "      <th>50%</th>\n",
       "      <td>37.000000</td>\n",
       "    </tr>\n",
       "    <tr>\n",
       "      <th>75%</th>\n",
       "      <td>45.000000</td>\n",
       "    </tr>\n",
       "    <tr>\n",
       "      <th>max</th>\n",
       "      <td>95.000000</td>\n",
       "    </tr>\n",
       "  </tbody>\n",
       "</table>\n",
       "</div>"
      ],
      "text/plain": [
       "                Age\n",
       "count  30477.000000\n",
       "mean      39.028120\n",
       "std       10.333885\n",
       "min       17.000000\n",
       "25%       31.000000\n",
       "50%       37.000000\n",
       "75%       45.000000\n",
       "max       95.000000"
      ]
     },
     "execution_count": 6,
     "metadata": {},
     "output_type": "execute_result"
    }
   ],
   "source": [
    "data.describe()"
   ]
  },
  {
   "cell_type": "code",
   "execution_count": 7,
   "id": "82763d88-e414-4dd5-9f3a-c3def451b817",
   "metadata": {},
   "outputs": [
    {
     "data": {
      "text/plain": [
       "Age    37.0\n",
       "dtype: float64"
      ]
     },
     "execution_count": 7,
     "metadata": {},
     "output_type": "execute_result"
    }
   ],
   "source": [
    "data.median()"
   ]
  },
  {
   "cell_type": "code",
   "execution_count": 8,
   "id": "2b1b0e59-90d1-4190-a0e6-3ae3dc4c4dd0",
   "metadata": {},
   "outputs": [
    {
     "data": {
      "text/plain": [
       "<AxesSubplot:xlabel='Age', ylabel='Density'>"
      ]
     },
     "execution_count": 8,
     "metadata": {},
     "output_type": "execute_result"
    },
    {
     "data": {
      "image/png": "[encoded data removed]",
      "text/plain": [
       "<Figure size 432x288 with 1 Axes>"
      ]
     },
     "metadata": {
      "needs_background": "light"
     },
     "output_type": "display_data"
    }
   ],
   "source": [
    "sns.distplot(data['Age'])"
   ]
  },
  {
   "cell_type": "markdown",
   "id": "95b7617c-f964-4a80-9dae-474de4fb4da3",
   "metadata": {},
   "source": [
    "연속형 변수 'Age'의 분포는 Positive Skew 형태를 띄고 있으며, 평균 나이는 39세 중앙값은 37세로 확인된다.<br>\n",
    "1분위수가 31세, 3분위수가 45세까지로 30대와 40대가 데이터에서 높은 비중을 차지하고 있음을 확인하였다."
   ]
  },
  {
   "cell_type": "markdown",
   "id": "2f4275ab-4700-45e7-b9c1-ec973156e647",
   "metadata": {},
   "source": [
    "<h3>이상치 인식과 처리</h3>"
   ]
  },
  {
   "cell_type": "code",
   "execution_count": 9,
   "id": "3cdc30e9-31c0-407d-ab14-f848d112edc2",
   "metadata": {},
   "outputs": [
    {
     "name": "stdout",
     "output_type": "stream",
     "text": [
      "이상치: 10.0, 66.0\n",
      "이상치: 8.03, 70.03\n"
     ]
    }
   ],
   "source": [
    "# IQR\n",
    "des = data.describe()\n",
    "IQR = des.loc['75%'] - des.loc['25%']\n",
    "Min_out = des.loc['25%'] - 1.5*IQR\n",
    "Max_out = des.loc['75%'] + 1.5*IQR\n",
    "print(\"이상치: {}, {}\".format(Min_out[0], Max_out[0]))\n",
    "\n",
    "# ESD\n",
    "Mean = des.loc['mean']\n",
    "Stdev = des.loc['std']\n",
    "Min_out = Mean - 3*Stdev\n",
    "Max_out = Mean + 3*Stdev\n",
    "print(\"이상치: {0:0.2f}, {1:0.2f}\".format(Min_out[0], Max_out[0]))"
   ]
  },
  {
   "cell_type": "markdown",
   "id": "bd9f5e96-32e9-4e5f-a803-d74a6f5de7a8",
   "metadata": {},
   "source": [
    "이상치 인식방법 중 ESD와 IQR을 이용한 결과, 위와 같은 값이 나왔다.<br>\n",
    "'Age'의 최소값이 17세이기 때문에 하위 이상치는 없으며, 최대값은 95세라 IQR과 ESD의 방법 모두 이상치로 인식된다.<br>\n",
    "이상치는 분석의 경우에 따라 처리해줄 수도 있고 처리하지 않을 수도 있다.<br>\n",
    "본 분석은 연령별 특성에 따라 상품가입 여부가 다르게 나타날 수 있다고 판단하였다.<br>\n",
    "따라서 이상치를 제거하지 않고 모든 데이터를 분석에 사용하기로 결론지었다."
   ]
  },
  {
   "cell_type": "code",
   "execution_count": 10,
   "id": "e7770641-b4ff-4ef5-a09c-5913dcfa8706",
   "metadata": {},
   "outputs": [
    {
     "data": {
      "text/plain": [
       "<AxesSubplot:xlabel='Job', ylabel='count'>"
      ]
     },
     "execution_count": 10,
     "metadata": {},
     "output_type": "execute_result"
    },
    {
     "data": {
      "image/png": "[encoded data removed]",
      "text/plain": [
       "<Figure size 1080x216 with 1 Axes>"
      ]
     },
     "metadata": {
      "needs_background": "light"
     },
     "output_type": "display_data"
    }
   ],
   "source": [
    "countplt, ax = plt.subplots(figsize = (15,3))\n",
    "sns.countplot(data['Job'])"
   ]
  },
  {
   "cell_type": "markdown",
   "id": "9e9f185c-660f-4ade-b316-8bc843af0bb0",
   "metadata": {},
   "source": [
    "직업변수의 경우 총 11가지의 종류가 있으며, 관리자(admin) 직업이 가장 많은 것으로 확인되었다.<br>\n",
    "비중이 높은 상위 3개의 직종('admin', 'technician', 'blue-collar')이 전체의 비중의 절반 이상을 차지하고 있다."
   ]
  },
  {
   "cell_type": "code",
   "execution_count": 11,
   "id": "b6e33ea7-e2a0-4bf6-b35f-e6500c773049",
   "metadata": {},
   "outputs": [
    {
     "data": {
      "text/plain": [
       "<AxesSubplot:xlabel='Marital_Status', ylabel='count'>"
      ]
     },
     "execution_count": 11,
     "metadata": {},
     "output_type": "execute_result"
    },
    {
     "data": {
      "image/png": "[encoded data removed]",
      "text/plain": [
       "<Figure size 576x216 with 1 Axes>"
      ]
     },
     "metadata": {
      "needs_background": "light"
     },
     "output_type": "display_data"
    }
   ],
   "source": [
    "countplt, ax = plt.subplots(figsize = (8,3))\n",
    "sns.countplot(data['Marital_Status'])"
   ]
  },
  {
   "cell_type": "markdown",
   "id": "c9fdff6c-4529-4b11-9fc8-62ca96007bde",
   "metadata": {},
   "source": [
    "결혼여부변수는 기혼, 미혼, 이혼 총 3가지로 분류되었으며, 기혼의 비중이 가장 높은 것을 확인하였다."
   ]
  },
  {
   "cell_type": "code",
   "execution_count": 12,
   "id": "59a92bc5-3b58-4ab7-b640-f324b6442b49",
   "metadata": {},
   "outputs": [
    {
     "data": {
      "text/plain": [
       "<AxesSubplot:xlabel='Education', ylabel='count'>"
      ]
     },
     "execution_count": 12,
     "metadata": {},
     "output_type": "execute_result"
    },
    {
     "data": {
      "image/png": "[encoded data removed]",
      "text/plain": [
       "<Figure size 720x216 with 1 Axes>"
      ]
     },
     "metadata": {
      "needs_background": "light"
     },
     "output_type": "display_data"
    }
   ],
   "source": [
    "countplt, ax = plt.subplots(figsize = (10,3))\n",
    "sns.countplot(data['Education'])"
   ]
  },
  {
   "cell_type": "markdown",
   "id": "b8310192-7546-4517-9518-eabc697ac54e",
   "metadata": {},
   "source": [
    "교육수준변수는 초등교육(primary), 중등교육(secondary), 대학교육(tertiary), 석박사교육(professional)로 나뉜다. <br>\n",
    "중등교육과 대학교육의 비중이 높은 것을 확인하였다."
   ]
  },
  {
   "cell_type": "code",
   "execution_count": 13,
   "id": "e9d6d754-61d8-4c54-8eee-9977e7413cb0",
   "metadata": {},
   "outputs": [
    {
     "data": {
      "image/png": "[encoded data removed]",
      "text/plain": [
       "<Figure size 1800x216 with 4 Axes>"
      ]
     },
     "metadata": {
      "needs_background": "light"
     },
     "output_type": "display_data"
    }
   ],
   "source": [
    "binary_col = ['Default_Credit', 'Housing_Loan', 'Personal_Loan', 'Subscribed']\n",
    "\n",
    "f, ax = plt.subplots(ncols=4, figsize = (25, 3))\n",
    "for num,col in enumerate(binary_col):\n",
    "    sns.countplot(data[col], ax=ax[num])"
   ]
  },
  {
   "cell_type": "markdown",
   "id": "66d6cce6-66c5-4b4f-b3ea-9536be4e8408",
   "metadata": {},
   "source": [
    "예, 아니오로 나뉘는 이산변수들이다.<br>\n",
    "신용파산 여부는 육안으로 보았을 때, 전부 no인 것으로 보인다. 이후 실제로 no만 있는지 확인해볼 예정이다.(만약 전부 no라면 변수의 의미가 없기때문에 제거해야할 것이다.)<br>\n",
    "주택구입 자금대출은 고른 분포의 답변 형태를 보이고 있다.<br>\n",
    "개인대출 여부와 상품가입 여부는 no의 빈도가 높은 불균형 형태를 이루고있다.<br>\n",
    "특히 상품가입 여부의 경우는 분석의 target data로 사용될 예정이기 때문에, 자료의 불균형이 모델의 성능에 영향을 끼치지 않도록 샘플링 기법을 고려해야 한다.<br>\n",
    "언더샘플링의 경우 소실되는 데이터가 너무 많고 오버샘플링은 과적합의 문제가 발생할 수 있기 때문에 과적합을 최소화 할 수 있는 SMOTE를 사용하기로 했다.<br>\n",
    "평가 시에는 F-Score와 ROC커브를 성능의 척도로 사용하는 것이 좋아보인다."
   ]
  },
  {
   "cell_type": "code",
   "execution_count": 14,
   "id": "05fd790b-2439-402a-a9b6-fdff926a4bd6",
   "metadata": {},
   "outputs": [
    {
     "data": {
      "text/html": [
       "<div>\n",
       "<style scoped>\n",
       "    .dataframe tbody tr th:only-of-type {\n",
       "        vertical-align: middle;\n",
       "    }\n",
       "\n",
       "    .dataframe tbody tr th {\n",
       "        vertical-align: top;\n",
       "    }\n",
       "\n",
       "    .dataframe thead th {\n",
       "        text-align: right;\n",
       "    }\n",
       "</style>\n",
       "<table border=\"1\" class=\"dataframe\">\n",
       "  <thead>\n",
       "    <tr style=\"text-align: right;\">\n",
       "      <th></th>\n",
       "      <th>Age</th>\n",
       "      <th>Job</th>\n",
       "      <th>Marital_Status</th>\n",
       "      <th>Education</th>\n",
       "      <th>Housing_Loan</th>\n",
       "      <th>Personal_Loan</th>\n",
       "      <th>Subscribed</th>\n",
       "    </tr>\n",
       "    <tr>\n",
       "      <th>Default_Credit</th>\n",
       "      <th></th>\n",
       "      <th></th>\n",
       "      <th></th>\n",
       "      <th></th>\n",
       "      <th></th>\n",
       "      <th></th>\n",
       "      <th></th>\n",
       "    </tr>\n",
       "  </thead>\n",
       "  <tbody>\n",
       "    <tr>\n",
       "      <th>no</th>\n",
       "      <td>30474</td>\n",
       "      <td>30474</td>\n",
       "      <td>30474</td>\n",
       "      <td>30474</td>\n",
       "      <td>30474</td>\n",
       "      <td>30474</td>\n",
       "      <td>30474</td>\n",
       "    </tr>\n",
       "    <tr>\n",
       "      <th>yes</th>\n",
       "      <td>3</td>\n",
       "      <td>3</td>\n",
       "      <td>3</td>\n",
       "      <td>3</td>\n",
       "      <td>3</td>\n",
       "      <td>3</td>\n",
       "      <td>3</td>\n",
       "    </tr>\n",
       "  </tbody>\n",
       "</table>\n",
       "</div>"
      ],
      "text/plain": [
       "                  Age    Job  Marital_Status  Education  Housing_Loan  \\\n",
       "Default_Credit                                                          \n",
       "no              30474  30474           30474      30474         30474   \n",
       "yes                 3      3               3          3             3   \n",
       "\n",
       "                Personal_Loan  Subscribed  \n",
       "Default_Credit                             \n",
       "no                      30474       30474  \n",
       "yes                         3           3  "
      ]
     },
     "execution_count": 14,
     "metadata": {},
     "output_type": "execute_result"
    }
   ],
   "source": [
    "data.groupby(data['Default_Credit']).count()"
   ]
  },
  {
   "cell_type": "markdown",
   "id": "5970e8a9-ee45-4dfc-8832-ad61eb9b9d2a",
   "metadata": {},
   "source": [
    "yes가 3개가 있으므로 제거하지않기로 한다."
   ]
  },
  {
   "cell_type": "markdown",
   "id": "79f24068-17c5-483f-a123-403d98cce016",
   "metadata": {},
   "source": [
    "<h2>데이터 전처리</h2>"
   ]
  },
  {
   "cell_type": "markdown",
   "id": "0b71639f-f69b-4859-af04-4a7c0f4ada10",
   "metadata": {},
   "source": [
    "<h3>명목, 서열척도 변수 확인</h3>"
   ]
  },
  {
   "cell_type": "code",
   "execution_count": 15,
   "id": "cf433789-f1c8-4794-8c63-28592cc66e81",
   "metadata": {},
   "outputs": [
    {
     "name": "stdout",
     "output_type": "stream",
     "text": [
      "Job: 11\n",
      "Marital_Status: 3\n",
      "Education: 4\n",
      "Default_Credit: 2\n",
      "Housing_Loan: 2\n",
      "Personal_Loan: 2\n",
      "Subscribed: 2\n"
     ]
    }
   ],
   "source": [
    "str_cols = [col for col in data.columns if data[col].dtype in ['object']]\n",
    "for col in str_cols:\n",
    "    print('{}:'.format(col),data[col].nunique())"
   ]
  },
  {
   "cell_type": "markdown",
   "id": "8a372723-46f8-456e-a4d8-5648428ce637",
   "metadata": {},
   "source": [
    "30477개의 데이터의 종류가 최대 11개까지밖에 존재하지 않기 때문에, 전부 활용하기로 한다."
   ]
  },
  {
   "cell_type": "markdown",
   "id": "c0320b39-5d87-4a2c-92ed-c59d6cc47175",
   "metadata": {},
   "source": [
    "<h3>라벨 인코딩</h3>"
   ]
  },
  {
   "cell_type": "code",
   "execution_count": 16,
   "id": "66025814-3c67-48ee-a4c4-73063587976d",
   "metadata": {},
   "outputs": [],
   "source": [
    "from sklearn.preprocessing import LabelEncoder"
   ]
  },
  {
   "cell_type": "code",
   "execution_count": 17,
   "id": "207b5be1-1dc4-43ca-b8b6-cad21ffadfc8",
   "metadata": {},
   "outputs": [],
   "source": [
    "def EncodingLabel(x):\n",
    "    le = LabelEncoder()\n",
    "    le.fit(x)\n",
    "    label = le.transform(x)\n",
    "    return label"
   ]
  },
  {
   "cell_type": "code",
   "execution_count": 18,
   "id": "cb5ac0c8-99b8-49ef-ade9-a1b3c9e03160",
   "metadata": {},
   "outputs": [],
   "source": [
    "pre_data = data.copy()\n",
    "pre_data[str_cols] = data[str_cols].apply(EncodingLabel)"
   ]
  },
  {
   "cell_type": "markdown",
   "id": "55765c08-6503-4cfa-bf67-ddeb6695429e",
   "metadata": {},
   "source": [
    "라벨 인코딩을 활용하여 명목변수를 숫자형 카테고리 값으로 변환하였다."
   ]
  },
  {
   "cell_type": "code",
   "execution_count": 19,
   "id": "6c3d311f-3362-4124-9d89-b20cceab6024",
   "metadata": {},
   "outputs": [
    {
     "data": {
      "text/html": [
       "<div>\n",
       "<style scoped>\n",
       "    .dataframe tbody tr th:only-of-type {\n",
       "        vertical-align: middle;\n",
       "    }\n",
       "\n",
       "    .dataframe tbody tr th {\n",
       "        vertical-align: top;\n",
       "    }\n",
       "\n",
       "    .dataframe thead th {\n",
       "        text-align: right;\n",
       "    }\n",
       "</style>\n",
       "<table border=\"1\" class=\"dataframe\">\n",
       "  <thead>\n",
       "    <tr style=\"text-align: right;\">\n",
       "      <th></th>\n",
       "      <th>Age</th>\n",
       "      <th>Job</th>\n",
       "      <th>Marital_Status</th>\n",
       "      <th>Education</th>\n",
       "      <th>Default_Credit</th>\n",
       "      <th>Housing_Loan</th>\n",
       "      <th>Personal_Loan</th>\n",
       "      <th>Subscribed</th>\n",
       "    </tr>\n",
       "  </thead>\n",
       "  <tbody>\n",
       "    <tr>\n",
       "      <th>0</th>\n",
       "      <td>56</td>\n",
       "      <td>3</td>\n",
       "      <td>1</td>\n",
       "      <td>0</td>\n",
       "      <td>0</td>\n",
       "      <td>0</td>\n",
       "      <td>0</td>\n",
       "      <td>0</td>\n",
       "    </tr>\n",
       "    <tr>\n",
       "      <th>1</th>\n",
       "      <td>37</td>\n",
       "      <td>7</td>\n",
       "      <td>1</td>\n",
       "      <td>2</td>\n",
       "      <td>0</td>\n",
       "      <td>1</td>\n",
       "      <td>0</td>\n",
       "      <td>0</td>\n",
       "    </tr>\n",
       "    <tr>\n",
       "      <th>2</th>\n",
       "      <td>40</td>\n",
       "      <td>0</td>\n",
       "      <td>1</td>\n",
       "      <td>0</td>\n",
       "      <td>0</td>\n",
       "      <td>0</td>\n",
       "      <td>0</td>\n",
       "      <td>0</td>\n",
       "    </tr>\n",
       "    <tr>\n",
       "      <th>3</th>\n",
       "      <td>56</td>\n",
       "      <td>7</td>\n",
       "      <td>1</td>\n",
       "      <td>2</td>\n",
       "      <td>0</td>\n",
       "      <td>0</td>\n",
       "      <td>1</td>\n",
       "      <td>0</td>\n",
       "    </tr>\n",
       "    <tr>\n",
       "      <th>4</th>\n",
       "      <td>59</td>\n",
       "      <td>0</td>\n",
       "      <td>1</td>\n",
       "      <td>1</td>\n",
       "      <td>0</td>\n",
       "      <td>0</td>\n",
       "      <td>0</td>\n",
       "      <td>0</td>\n",
       "    </tr>\n",
       "  </tbody>\n",
       "</table>\n",
       "</div>"
      ],
      "text/plain": [
       "   Age  Job  Marital_Status  Education  Default_Credit  Housing_Loan  \\\n",
       "0   56    3               1          0               0             0   \n",
       "1   37    7               1          2               0             1   \n",
       "2   40    0               1          0               0             0   \n",
       "3   56    7               1          2               0             0   \n",
       "4   59    0               1          1               0             0   \n",
       "\n",
       "   Personal_Loan  Subscribed  \n",
       "0              0           0  \n",
       "1              0           0  \n",
       "2              0           0  \n",
       "3              1           0  \n",
       "4              0           0  "
      ]
     },
     "execution_count": 19,
     "metadata": {},
     "output_type": "execute_result"
    }
   ],
   "source": [
    "pre_data.head()"
   ]
  },
  {
   "cell_type": "markdown",
   "id": "509454b5-ba10-481f-82d6-2156ad14f951",
   "metadata": {},
   "source": [
    "<h3>결측치 확인 및 처리</h3>"
   ]
  },
  {
   "cell_type": "code",
   "execution_count": 20,
   "id": "4dd4d2a1-ec19-4b03-b319-f6ad9474df0a",
   "metadata": {},
   "outputs": [
    {
     "data": {
      "text/plain": [
       "Age               0.0\n",
       "Job               0.0\n",
       "Marital_Status    0.0\n",
       "Education         0.0\n",
       "Default_Credit    0.0\n",
       "Housing_Loan      0.0\n",
       "Personal_Loan     0.0\n",
       "Subscribed        0.0\n",
       "dtype: float64"
      ]
     },
     "execution_count": 20,
     "metadata": {},
     "output_type": "execute_result"
    }
   ],
   "source": [
    "pre_data.isna().sum() / len(pre_data)"
   ]
  },
  {
   "cell_type": "markdown",
   "id": "ca43b66d-67f5-4b81-a9ed-d467260d2f46",
   "metadata": {},
   "source": [
    "결측값이 존재하지 않음을 확인하였다."
   ]
  },
  {
   "cell_type": "markdown",
   "id": "0b9d6102-d0e4-4415-b087-2e7b4a196fc1",
   "metadata": {},
   "source": [
    "<h3>데이터 불균형 처리</h3>"
   ]
  },
  {
   "cell_type": "code",
   "execution_count": 21,
   "id": "1ce98725-013d-46ed-b81c-b86c5523896a",
   "metadata": {},
   "outputs": [],
   "source": [
    "from imblearn.over_sampling import SMOTE, SMOTENC, RandomOverSampler"
   ]
  },
  {
   "cell_type": "code",
   "execution_count": 22,
   "id": "e1e2fee1-66c2-479a-aa6c-e3927040f829",
   "metadata": {},
   "outputs": [],
   "source": [
    "sample = SMOTE()"
   ]
  },
  {
   "cell_type": "code",
   "execution_count": 23,
   "id": "6e56a51f-a1b4-4c5b-a8c4-78d29b37dd2b",
   "metadata": {},
   "outputs": [],
   "source": [
    "X = pre_data[['Age','Job','Marital_Status', 'Education','Default_Credit', 'Housing_Loan', 'Personal_Loan']]\n",
    "y = pre_data['Subscribed']"
   ]
  },
  {
   "cell_type": "code",
   "execution_count": 24,
   "id": "a08c5b22-398c-48c2-b3ba-9d5d1c57ecaf",
   "metadata": {},
   "outputs": [],
   "source": [
    "X_sm, y_sm = sample.fit_resample(X, y)"
   ]
  },
  {
   "cell_type": "code",
   "execution_count": 25,
   "id": "9240d3a1-1c50-4f12-bba2-fe96e41dbc46",
   "metadata": {},
   "outputs": [
    {
     "data": {
      "text/plain": [
       "0    26621\n",
       "1     3856\n",
       "Name: Subscribed, dtype: int64"
      ]
     },
     "execution_count": 25,
     "metadata": {},
     "output_type": "execute_result"
    }
   ],
   "source": [
    "y.value_counts()"
   ]
  },
  {
   "cell_type": "code",
   "execution_count": 26,
   "id": "01fc9072-5398-4488-8ea1-98b5c58d5074",
   "metadata": {},
   "outputs": [
    {
     "data": {
      "text/plain": [
       "0    26621\n",
       "1    26621\n",
       "Name: Subscribed, dtype: int64"
      ]
     },
     "execution_count": 26,
     "metadata": {},
     "output_type": "execute_result"
    }
   ],
   "source": [
    "y_sm.value_counts()"
   ]
  },
  {
   "cell_type": "markdown",
   "id": "44ed0e39-1a79-4d4f-a4c8-d9b9513e97d6",
   "metadata": {},
   "source": [
    "<h3>Train, Test셋 나누기</h3>"
   ]
  },
  {
   "cell_type": "markdown",
   "id": "1d929484-01a3-438e-acb2-3947757f87fc",
   "metadata": {},
   "source": [
    "학습을 시키기 위해 훈련셋과 테스트셋을 7:3비율로 나누어주었다."
   ]
  },
  {
   "cell_type": "code",
   "execution_count": 27,
   "id": "6cde0642-c270-485b-971d-190d59b8924b",
   "metadata": {},
   "outputs": [],
   "source": [
    "from sklearn.model_selection import train_test_split"
   ]
  },
  {
   "cell_type": "code",
   "execution_count": 28,
   "id": "d2f610ac-c961-44af-93e9-ef7d58113bc3",
   "metadata": {},
   "outputs": [],
   "source": [
    "X_train, X_test, y_train, y_test = train_test_split(X_sm, y_sm, test_size = 0.3, random_state = 1000)"
   ]
  },
  {
   "cell_type": "markdown",
   "id": "df2582c3-5c9c-4b42-acb2-dd242ab0aae9",
   "metadata": {},
   "source": [
    "<h2>모델링</h2>"
   ]
  },
  {
   "cell_type": "markdown",
   "id": "538af7e6-307a-4bf4-bda1-1c0b222134ae",
   "metadata": {},
   "source": [
    "<h3>모델링 |  로지스틱 회귀</h3>"
   ]
  },
  {
   "cell_type": "code",
   "execution_count": 29,
   "id": "b31eb30a-3c8a-477e-bb73-25a1d266fb94",
   "metadata": {},
   "outputs": [],
   "source": [
    "from sklearn.linear_model import LogisticRegression"
   ]
  },
  {
   "cell_type": "code",
   "execution_count": 30,
   "id": "ff848aed-0723-4fe0-9fb6-670cf02dfd85",
   "metadata": {},
   "outputs": [],
   "source": [
    "model = LogisticRegression()"
   ]
  },
  {
   "cell_type": "code",
   "execution_count": 31,
   "id": "e121bfa4-a7e9-4578-8b73-85a7a4710afe",
   "metadata": {},
   "outputs": [
    {
     "data": {
      "text/plain": [
       "LogisticRegression()"
      ]
     },
     "execution_count": 31,
     "metadata": {},
     "output_type": "execute_result"
    }
   ],
   "source": [
    "model.fit(X_train, y_train)"
   ]
  },
  {
   "cell_type": "code",
   "execution_count": 32,
   "id": "69dc7bd8-1a39-45bb-8337-b6da7659b1db",
   "metadata": {},
   "outputs": [
    {
     "data": {
      "text/plain": [
       "array([[ 0.01561313,  0.01001458,  0.16965292,  0.06277594, -0.0033193 ,\n",
       "        -0.13264868, -0.83589859]])"
      ]
     },
     "execution_count": 32,
     "metadata": {},
     "output_type": "execute_result"
    }
   ],
   "source": [
    "# Coefficient 확인\n",
    "model.coef_"
   ]
  },
  {
   "cell_type": "markdown",
   "id": "5e6ef999-e849-4b3d-a678-05460d2a63c5",
   "metadata": {},
   "source": [
    "<h3>예측 및 평가</h3>"
   ]
  },
  {
   "cell_type": "code",
   "execution_count": 33,
   "id": "1a955f46-499d-4b09-b158-bd04c668bf7d",
   "metadata": {},
   "outputs": [],
   "source": [
    "from sklearn.metrics import precision_score, recall_score, f1_score, accuracy_score, roc_curve, confusion_matrix, roc_auc_score"
   ]
  },
  {
   "cell_type": "code",
   "execution_count": 34,
   "id": "8d8d7241-35d9-46d2-9181-09dd0326a47e",
   "metadata": {},
   "outputs": [],
   "source": [
    "def metrics(y_test, pred):\n",
    "    accuracy = accuracy_score(y_test, pred)\n",
    "    precision = precision_score(y_test, pred)\n",
    "    recall = recall_score(y_test, pred)\n",
    "    f1 = f1_score(y_test, pred)\n",
    "    print('정확도 : {0:.4f}, 정밀도 : {1:.4f}, 재현률 : {2:.4f}'.format(accuracy, precision, recall))\n",
    "    print('f1-score : {0:.4f}'.format(f1))"
   ]
  },
  {
   "cell_type": "code",
   "execution_count": 35,
   "id": "e936f6a3-4ba0-40b2-bc92-65cca0a18c75",
   "metadata": {},
   "outputs": [],
   "source": [
    "pred = model.predict(X_test)"
   ]
  },
  {
   "cell_type": "code",
   "execution_count": 36,
   "id": "425c9565-154a-49cc-b2a0-c19d2618e24a",
   "metadata": {},
   "outputs": [
    {
     "name": "stdout",
     "output_type": "stream",
     "text": [
      "정확도 : 0.5384, 정밀도 : 0.5354, 재현률 : 0.6376\n",
      "f1-score : 0.5820\n"
     ]
    }
   ],
   "source": [
    "metrics(y_test, pred)"
   ]
  },
  {
   "cell_type": "code",
   "execution_count": 37,
   "id": "d73965c2-fc7e-4746-a043-de3255b83b4c",
   "metadata": {},
   "outputs": [
    {
     "data": {
      "image/png": "[encoded data removed]",
      "text/plain": [
       "<Figure size 432x288 with 2 Axes>"
      ]
     },
     "metadata": {
      "needs_background": "light"
     },
     "output_type": "display_data"
    }
   ],
   "source": [
    "cm=confusion_matrix(y_test, pred)\n",
    "sns.heatmap(cm, annot=True, linecolor = \"white\", linewidths = 0.5, xticklabels = ['Pre_NO', 'Pre_YES'], yticklabels = ['Act_NO', 'Act_YES'], fmt='d')\n",
    "plt.title(\"Confusion Matrix\")\n",
    "plt.show()"
   ]
  },
  {
   "cell_type": "code",
   "execution_count": 38,
   "id": "430037be-f430-464b-a9d0-da9eb032ed38",
   "metadata": {},
   "outputs": [],
   "source": [
    "fpr, tpr, thresholds = roc_curve(y_test, pred)"
   ]
  },
  {
   "cell_type": "code",
   "execution_count": 39,
   "id": "a495f21e-2cf3-4e44-8a79-994959216df5",
   "metadata": {},
   "outputs": [
    {
     "data": {
      "text/plain": [
       "<function matplotlib.pyplot.show(close=None, block=None)>"
      ]
     },
     "execution_count": 39,
     "metadata": {},
     "output_type": "execute_result"
    },
    {
     "data": {
      "image/png": "[encoded data removed]",
      "text/plain": [
       "<Figure size 576x576 with 1 Axes>"
      ]
     },
     "metadata": {
      "needs_background": "light"
     },
     "output_type": "display_data"
    }
   ],
   "source": [
    "fig, ax = plt.subplots(figsize=(8, 8))\n",
    "plt.plot([0,1], [0,1], linestyle='--')\n",
    "plt.plot(fpr, tpr, marker='.')\n",
    "plt.xlabel('False Positive Rate', fontsize=13)\n",
    "plt.ylabel('True Positive Rate', fontsize=13)\n",
    "plt.title('ROC Curve', fontsize=15)\n",
    "plt.show"
   ]
  },
  {
   "cell_type": "code",
   "execution_count": 40,
   "id": "d47536bc-4817-4f8f-a749-1210c9b0cd0d",
   "metadata": {},
   "outputs": [
    {
     "data": {
      "text/plain": [
       "0.5376012805389123"
      ]
     },
     "execution_count": 40,
     "metadata": {},
     "output_type": "execute_result"
    }
   ],
   "source": [
    "roc_auc_score(y_test, pred)"
   ]
  },
  {
   "cell_type": "markdown",
   "id": "215f7d32-3b24-4efb-a5bf-fee08ca109b3",
   "metadata": {},
   "source": [
    "<h3>모델링 | XG Boost</h3>"
   ]
  },
  {
   "cell_type": "code",
   "execution_count": 41,
   "id": "95e3a729-41b4-46f3-be81-6593d55d0cc8",
   "metadata": {},
   "outputs": [],
   "source": [
    "import xgboost as xgb"
   ]
  },
  {
   "cell_type": "code",
   "execution_count": 42,
   "id": "323f887d-6e36-4693-bb8b-a6b6a97a9259",
   "metadata": {},
   "outputs": [],
   "source": [
    "dtrain = xgb.DMatrix(data=X_train, label = y_train)\n",
    "dtest = xgb.DMatrix(data=X_test, label=y_test)"
   ]
  },
  {
   "cell_type": "markdown",
   "id": "dbde09c8-5c3c-4027-9e83-fcd970f55438",
   "metadata": {},
   "source": [
    "array 형태의 학습 데이터 세트와 테스트 데이터를 DMatrix로 변환해주었다."
   ]
  },
  {
   "cell_type": "code",
   "execution_count": 43,
   "id": "0cc1b4ee-141c-4d73-aa99-0693c24c19d4",
   "metadata": {},
   "outputs": [],
   "source": [
    "# max_depth = 3, 학습률은 0.1, 예제가 이진분류이므로 목적함수(objective)는 binary:logistic(이진 로지스틱)\n",
    "# 오류함수의 평가성능지표는 logloss\n",
    "# 부스팅 반복횟수는 400\n",
    "# 조기중단을 위한 최소 반복횟수는 100\n",
    "\n",
    "params = {'max_depth' : 3,\n",
    "         'eta' : 0.1, \n",
    "         'objective' : 'binary:logistic',\n",
    "         'eval_metric' : 'logloss',\n",
    "         'early_stoppings' : 100 }\n",
    "\n",
    "num_rounds = 400"
   ]
  },
  {
   "cell_type": "markdown",
   "id": "aea20056-3a67-485e-8f84-ae43e2a01eea",
   "metadata": {},
   "source": [
    "XG Boost의 하이퍼파라메터 설정 부분이다.<br>\n",
    "최대 깊이는 3(통상적으로 3~10으로 설정), 학습률은 0.1로 설정했다.<br>\n",
    "주어진 데이터가 이진분류(binary classification) 목적함수(objective)는 binary:logistic(이진 로지스틱)으로 설정하였다.<br>\n",
    "손실함수로는 로그우도함수를 사용하였고 과적합을 회피하기 위해 조기종료를 설정하였다.<br>\n",
    "총 400회의 iterate를 진행하였다."
   ]
  },
  {
   "cell_type": "code",
   "execution_count": 44,
   "id": "d199d6f2-4569-4149-8c8d-27a3a3c4f486",
   "metadata": {},
   "outputs": [
    {
     "name": "stdout",
     "output_type": "stream",
     "text": [
      "[19:27:23] WARNING: /opt/concourse/worker/volumes/live/7a2b9f41-3287-451b-6691-43e9a6c0910f/volume/xgboost-split_1619728204606/work/src/learner.cc:541: \n",
      "Parameters: { early_stoppings } might not be used.\n",
      "\n",
      "  This may not be accurate due to some parameters are only used in language bindings but\n",
      "  passed down to XGBoost core.  Or some parameters are not used but slip through this\n",
      "  verification. Please open an issue if you find above cases.\n",
      "\n",
      "\n",
      "[0]\ttrain-logloss:0.68820\teval-logloss:0.68832\n",
      "[1]\ttrain-logloss:0.68419\teval-logloss:0.68444\n",
      "[2]\ttrain-logloss:0.68077\teval-logloss:0.68115\n",
      "[3]\ttrain-logloss:0.67795\teval-logloss:0.67850\n",
      "[4]\ttrain-logloss:0.67551\teval-logloss:0.67616\n",
      "[5]\ttrain-logloss:0.67343\teval-logloss:0.67421\n",
      "[6]\ttrain-logloss:0.67170\teval-logloss:0.67255\n",
      "[7]\ttrain-logloss:0.66991\teval-logloss:0.67076\n",
      "[8]\ttrain-logloss:0.66832\teval-logloss:0.66934\n",
      "[9]\ttrain-logloss:0.66659\teval-logloss:0.66770\n",
      "[10]\ttrain-logloss:0.66509\teval-logloss:0.66631\n",
      "[11]\ttrain-logloss:0.66396\teval-logloss:0.66533\n",
      "[12]\ttrain-logloss:0.66299\teval-logloss:0.66440\n",
      "[13]\ttrain-logloss:0.66200\teval-logloss:0.66346\n",
      "[14]\ttrain-logloss:0.66130\teval-logloss:0.66289\n",
      "[15]\ttrain-logloss:0.66039\teval-logloss:0.66201\n",
      "[16]\ttrain-logloss:0.65935\teval-logloss:0.66107\n",
      "[17]\ttrain-logloss:0.65866\teval-logloss:0.66046\n",
      "[18]\ttrain-logloss:0.65761\teval-logloss:0.65943\n",
      "[19]\ttrain-logloss:0.65703\teval-logloss:0.65900\n",
      "[20]\ttrain-logloss:0.65646\teval-logloss:0.65846\n",
      "[21]\ttrain-logloss:0.65560\teval-logloss:0.65774\n",
      "[22]\ttrain-logloss:0.65467\teval-logloss:0.65689\n",
      "[23]\ttrain-logloss:0.65432\teval-logloss:0.65658\n",
      "[24]\ttrain-logloss:0.65368\teval-logloss:0.65605\n",
      "[25]\ttrain-logloss:0.65297\teval-logloss:0.65539\n",
      "[26]\ttrain-logloss:0.65237\teval-logloss:0.65488\n",
      "[27]\ttrain-logloss:0.65207\teval-logloss:0.65467\n",
      "[28]\ttrain-logloss:0.65179\teval-logloss:0.65450\n",
      "[29]\ttrain-logloss:0.65131\teval-logloss:0.65409\n",
      "[30]\ttrain-logloss:0.65101\teval-logloss:0.65381\n",
      "[31]\ttrain-logloss:0.65082\teval-logloss:0.65369\n",
      "[32]\ttrain-logloss:0.65038\teval-logloss:0.65336\n",
      "[33]\ttrain-logloss:0.65007\teval-logloss:0.65314\n",
      "[34]\ttrain-logloss:0.64966\teval-logloss:0.65280\n",
      "[35]\ttrain-logloss:0.64932\teval-logloss:0.65258\n",
      "[36]\ttrain-logloss:0.64906\teval-logloss:0.65232\n",
      "[37]\ttrain-logloss:0.64892\teval-logloss:0.65223\n",
      "[38]\ttrain-logloss:0.64863\teval-logloss:0.65202\n",
      "[39]\ttrain-logloss:0.64841\teval-logloss:0.65180\n",
      "[40]\ttrain-logloss:0.64829\teval-logloss:0.65172\n",
      "[41]\ttrain-logloss:0.64800\teval-logloss:0.65151\n",
      "[42]\ttrain-logloss:0.64779\teval-logloss:0.65133\n",
      "[43]\ttrain-logloss:0.64769\teval-logloss:0.65127\n",
      "[44]\ttrain-logloss:0.64745\teval-logloss:0.65112\n",
      "[45]\ttrain-logloss:0.64698\teval-logloss:0.65072\n",
      "[46]\ttrain-logloss:0.64677\teval-logloss:0.65050\n",
      "[47]\ttrain-logloss:0.64653\teval-logloss:0.65029\n",
      "[48]\ttrain-logloss:0.64641\teval-logloss:0.65021\n",
      "[49]\ttrain-logloss:0.64603\teval-logloss:0.64983\n",
      "[50]\ttrain-logloss:0.64585\teval-logloss:0.64972\n",
      "[51]\ttrain-logloss:0.64578\teval-logloss:0.64969\n",
      "[52]\ttrain-logloss:0.64560\teval-logloss:0.64952\n",
      "[53]\ttrain-logloss:0.64541\teval-logloss:0.64938\n",
      "[54]\ttrain-logloss:0.64528\teval-logloss:0.64930\n",
      "[55]\ttrain-logloss:0.64517\teval-logloss:0.64920\n",
      "[56]\ttrain-logloss:0.64485\teval-logloss:0.64896\n",
      "[57]\ttrain-logloss:0.64458\teval-logloss:0.64869\n",
      "[58]\ttrain-logloss:0.64451\teval-logloss:0.64863\n",
      "[59]\ttrain-logloss:0.64428\teval-logloss:0.64847\n",
      "[60]\ttrain-logloss:0.64412\teval-logloss:0.64839\n",
      "[61]\ttrain-logloss:0.64398\teval-logloss:0.64827\n",
      "[62]\ttrain-logloss:0.64382\teval-logloss:0.64811\n",
      "[63]\ttrain-logloss:0.64367\teval-logloss:0.64799\n",
      "[64]\ttrain-logloss:0.64348\teval-logloss:0.64785\n",
      "[65]\ttrain-logloss:0.64334\teval-logloss:0.64772\n",
      "[66]\ttrain-logloss:0.64324\teval-logloss:0.64771\n",
      "[67]\ttrain-logloss:0.64307\teval-logloss:0.64759\n",
      "[68]\ttrain-logloss:0.64300\teval-logloss:0.64756\n",
      "[69]\ttrain-logloss:0.64281\teval-logloss:0.64739\n",
      "[70]\ttrain-logloss:0.64272\teval-logloss:0.64734\n",
      "[71]\ttrain-logloss:0.64258\teval-logloss:0.64725\n",
      "[72]\ttrain-logloss:0.64247\teval-logloss:0.64716\n",
      "[73]\ttrain-logloss:0.64238\teval-logloss:0.64711\n",
      "[74]\ttrain-logloss:0.64226\teval-logloss:0.64703\n",
      "[75]\ttrain-logloss:0.64218\teval-logloss:0.64697\n",
      "[76]\ttrain-logloss:0.64206\teval-logloss:0.64688\n",
      "[77]\ttrain-logloss:0.64177\teval-logloss:0.64667\n",
      "[78]\ttrain-logloss:0.64172\teval-logloss:0.64666\n",
      "[79]\ttrain-logloss:0.64162\teval-logloss:0.64654\n",
      "[80]\ttrain-logloss:0.64158\teval-logloss:0.64650\n",
      "[81]\ttrain-logloss:0.64128\teval-logloss:0.64625\n",
      "[82]\ttrain-logloss:0.64116\teval-logloss:0.64615\n",
      "[83]\ttrain-logloss:0.64106\teval-logloss:0.64611\n",
      "[84]\ttrain-logloss:0.64099\teval-logloss:0.64605\n",
      "[85]\ttrain-logloss:0.64084\teval-logloss:0.64590\n",
      "[86]\ttrain-logloss:0.64081\teval-logloss:0.64587\n",
      "[87]\ttrain-logloss:0.64075\teval-logloss:0.64585\n",
      "[88]\ttrain-logloss:0.64067\teval-logloss:0.64575\n",
      "[89]\ttrain-logloss:0.64053\teval-logloss:0.64561\n",
      "[90]\ttrain-logloss:0.64050\teval-logloss:0.64558\n",
      "[91]\ttrain-logloss:0.64043\teval-logloss:0.64553\n",
      "[92]\ttrain-logloss:0.64037\teval-logloss:0.64549\n",
      "[93]\ttrain-logloss:0.64020\teval-logloss:0.64537\n",
      "[94]\ttrain-logloss:0.64008\teval-logloss:0.64525\n",
      "[95]\ttrain-logloss:0.64000\teval-logloss:0.64516\n",
      "[96]\ttrain-logloss:0.63997\teval-logloss:0.64514\n",
      "[97]\ttrain-logloss:0.63977\teval-logloss:0.64493\n",
      "[98]\ttrain-logloss:0.63966\teval-logloss:0.64487\n",
      "[99]\ttrain-logloss:0.63960\teval-logloss:0.64481\n",
      "[100]\ttrain-logloss:0.63958\teval-logloss:0.64479\n",
      "[101]\ttrain-logloss:0.63939\teval-logloss:0.64469\n",
      "[102]\ttrain-logloss:0.63928\teval-logloss:0.64460\n",
      "[103]\ttrain-logloss:0.63917\teval-logloss:0.64455\n",
      "[104]\ttrain-logloss:0.63906\teval-logloss:0.64448\n",
      "[105]\ttrain-logloss:0.63895\teval-logloss:0.64435\n",
      "[106]\ttrain-logloss:0.63893\teval-logloss:0.64434\n",
      "[107]\ttrain-logloss:0.63891\teval-logloss:0.64433\n",
      "[108]\ttrain-logloss:0.63881\teval-logloss:0.64424\n",
      "[109]\ttrain-logloss:0.63869\teval-logloss:0.64412\n",
      "[110]\ttrain-logloss:0.63862\teval-logloss:0.64408\n",
      "[111]\ttrain-logloss:0.63847\teval-logloss:0.64394\n",
      "[112]\ttrain-logloss:0.63845\teval-logloss:0.64394\n",
      "[113]\ttrain-logloss:0.63840\teval-logloss:0.64391\n",
      "[114]\ttrain-logloss:0.63830\teval-logloss:0.64382\n",
      "[115]\ttrain-logloss:0.63821\teval-logloss:0.64376\n",
      "[116]\ttrain-logloss:0.63811\teval-logloss:0.64366\n",
      "[117]\ttrain-logloss:0.63804\teval-logloss:0.64366\n",
      "[118]\ttrain-logloss:0.63797\teval-logloss:0.64363\n",
      "[119]\ttrain-logloss:0.63788\teval-logloss:0.64353\n",
      "[120]\ttrain-logloss:0.63780\teval-logloss:0.64348\n",
      "[121]\ttrain-logloss:0.63779\teval-logloss:0.64349\n",
      "[122]\ttrain-logloss:0.63772\teval-logloss:0.64342\n",
      "[123]\ttrain-logloss:0.63762\teval-logloss:0.64333\n",
      "[124]\ttrain-logloss:0.63753\teval-logloss:0.64326\n",
      "[125]\ttrain-logloss:0.63746\teval-logloss:0.64318\n",
      "[126]\ttrain-logloss:0.63740\teval-logloss:0.64316\n",
      "[127]\ttrain-logloss:0.63736\teval-logloss:0.64312\n",
      "[128]\ttrain-logloss:0.63721\teval-logloss:0.64305\n",
      "[129]\ttrain-logloss:0.63713\teval-logloss:0.64298\n",
      "[130]\ttrain-logloss:0.63710\teval-logloss:0.64294\n",
      "[131]\ttrain-logloss:0.63703\teval-logloss:0.64287\n",
      "[132]\ttrain-logloss:0.63691\teval-logloss:0.64280\n",
      "[133]\ttrain-logloss:0.63690\teval-logloss:0.64280\n",
      "[134]\ttrain-logloss:0.63684\teval-logloss:0.64272\n",
      "[135]\ttrain-logloss:0.63674\teval-logloss:0.64268\n",
      "[136]\ttrain-logloss:0.63671\teval-logloss:0.64265\n",
      "[137]\ttrain-logloss:0.63660\teval-logloss:0.64255\n",
      "[138]\ttrain-logloss:0.63644\teval-logloss:0.64238\n",
      "[139]\ttrain-logloss:0.63640\teval-logloss:0.64235\n",
      "[140]\ttrain-logloss:0.63633\teval-logloss:0.64232\n",
      "[141]\ttrain-logloss:0.63623\teval-logloss:0.64224\n",
      "[142]\ttrain-logloss:0.63621\teval-logloss:0.64221\n",
      "[143]\ttrain-logloss:0.63613\teval-logloss:0.64216\n",
      "[144]\ttrain-logloss:0.63610\teval-logloss:0.64213\n",
      "[145]\ttrain-logloss:0.63601\teval-logloss:0.64202\n",
      "[146]\ttrain-logloss:0.63592\teval-logloss:0.64196\n",
      "[147]\ttrain-logloss:0.63591\teval-logloss:0.64195\n",
      "[148]\ttrain-logloss:0.63580\teval-logloss:0.64186\n",
      "[149]\ttrain-logloss:0.63570\teval-logloss:0.64181\n",
      "[150]\ttrain-logloss:0.63567\teval-logloss:0.64178\n",
      "[151]\ttrain-logloss:0.63560\teval-logloss:0.64170\n",
      "[152]\ttrain-logloss:0.63553\teval-logloss:0.64162\n",
      "[153]\ttrain-logloss:0.63551\teval-logloss:0.64160\n",
      "[154]\ttrain-logloss:0.63545\teval-logloss:0.64156\n",
      "[155]\ttrain-logloss:0.63542\teval-logloss:0.64154\n",
      "[156]\ttrain-logloss:0.63531\teval-logloss:0.64145\n",
      "[157]\ttrain-logloss:0.63518\teval-logloss:0.64131\n",
      "[158]\ttrain-logloss:0.63509\teval-logloss:0.64124\n",
      "[159]\ttrain-logloss:0.63505\teval-logloss:0.64123\n",
      "[160]\ttrain-logloss:0.63498\teval-logloss:0.64118\n",
      "[161]\ttrain-logloss:0.63491\teval-logloss:0.64110\n",
      "[162]\ttrain-logloss:0.63484\teval-logloss:0.64106\n",
      "[163]\ttrain-logloss:0.63475\teval-logloss:0.64096\n",
      "[164]\ttrain-logloss:0.63467\teval-logloss:0.64088\n",
      "[165]\ttrain-logloss:0.63455\teval-logloss:0.64076\n",
      "[166]\ttrain-logloss:0.63448\teval-logloss:0.64068\n",
      "[167]\ttrain-logloss:0.63442\teval-logloss:0.64061\n",
      "[168]\ttrain-logloss:0.63436\teval-logloss:0.64057\n",
      "[169]\ttrain-logloss:0.63430\teval-logloss:0.64051\n",
      "[170]\ttrain-logloss:0.63429\teval-logloss:0.64051\n",
      "[171]\ttrain-logloss:0.63419\teval-logloss:0.64045\n",
      "[172]\ttrain-logloss:0.63412\teval-logloss:0.64041\n",
      "[173]\ttrain-logloss:0.63409\teval-logloss:0.64039\n",
      "[174]\ttrain-logloss:0.63404\teval-logloss:0.64040\n",
      "[175]\ttrain-logloss:0.63397\teval-logloss:0.64036\n",
      "[176]\ttrain-logloss:0.63391\teval-logloss:0.64034\n",
      "[177]\ttrain-logloss:0.63389\teval-logloss:0.64031\n",
      "[178]\ttrain-logloss:0.63379\teval-logloss:0.64021\n",
      "[179]\ttrain-logloss:0.63376\teval-logloss:0.64020\n",
      "[180]\ttrain-logloss:0.63370\teval-logloss:0.64016\n",
      "[181]\ttrain-logloss:0.63368\teval-logloss:0.64014\n",
      "[182]\ttrain-logloss:0.63362\teval-logloss:0.64007\n",
      "[183]\ttrain-logloss:0.63356\teval-logloss:0.64001\n",
      "[184]\ttrain-logloss:0.63348\teval-logloss:0.63994\n",
      "[185]\ttrain-logloss:0.63343\teval-logloss:0.63989\n",
      "[186]\ttrain-logloss:0.63337\teval-logloss:0.63983\n",
      "[187]\ttrain-logloss:0.63336\teval-logloss:0.63983\n",
      "[188]\ttrain-logloss:0.63331\teval-logloss:0.63980\n",
      "[189]\ttrain-logloss:0.63329\teval-logloss:0.63979\n",
      "[190]\ttrain-logloss:0.63324\teval-logloss:0.63975\n",
      "[191]\ttrain-logloss:0.63320\teval-logloss:0.63971\n",
      "[192]\ttrain-logloss:0.63315\teval-logloss:0.63970\n",
      "[193]\ttrain-logloss:0.63314\teval-logloss:0.63970\n",
      "[194]\ttrain-logloss:0.63313\teval-logloss:0.63970\n",
      "[195]\ttrain-logloss:0.63308\teval-logloss:0.63971\n",
      "[196]\ttrain-logloss:0.63303\teval-logloss:0.63966\n",
      "[197]\ttrain-logloss:0.63296\teval-logloss:0.63964\n",
      "[198]\ttrain-logloss:0.63289\teval-logloss:0.63960\n",
      "[199]\ttrain-logloss:0.63281\teval-logloss:0.63957\n",
      "[200]\ttrain-logloss:0.63276\teval-logloss:0.63951\n",
      "[201]\ttrain-logloss:0.63270\teval-logloss:0.63948\n",
      "[202]\ttrain-logloss:0.63263\teval-logloss:0.63944\n",
      "[203]\ttrain-logloss:0.63260\teval-logloss:0.63941\n",
      "[204]\ttrain-logloss:0.63257\teval-logloss:0.63939\n",
      "[205]\ttrain-logloss:0.63251\teval-logloss:0.63934\n",
      "[206]\ttrain-logloss:0.63247\teval-logloss:0.63929\n",
      "[207]\ttrain-logloss:0.63242\teval-logloss:0.63925\n",
      "[208]\ttrain-logloss:0.63233\teval-logloss:0.63915\n",
      "[209]\ttrain-logloss:0.63227\teval-logloss:0.63915\n",
      "[210]\ttrain-logloss:0.63223\teval-logloss:0.63911\n",
      "[211]\ttrain-logloss:0.63213\teval-logloss:0.63897\n",
      "[212]\ttrain-logloss:0.63198\teval-logloss:0.63885\n",
      "[213]\ttrain-logloss:0.63191\teval-logloss:0.63877\n",
      "[214]\ttrain-logloss:0.63190\teval-logloss:0.63877\n",
      "[215]\ttrain-logloss:0.63185\teval-logloss:0.63875\n",
      "[216]\ttrain-logloss:0.63180\teval-logloss:0.63871\n",
      "[217]\ttrain-logloss:0.63178\teval-logloss:0.63868\n",
      "[218]\ttrain-logloss:0.63176\teval-logloss:0.63866\n",
      "[219]\ttrain-logloss:0.63175\teval-logloss:0.63866\n",
      "[220]\ttrain-logloss:0.63172\teval-logloss:0.63866\n",
      "[221]\ttrain-logloss:0.63172\teval-logloss:0.63866\n",
      "[222]\ttrain-logloss:0.63171\teval-logloss:0.63864\n",
      "[223]\ttrain-logloss:0.63166\teval-logloss:0.63862\n",
      "[224]\ttrain-logloss:0.63159\teval-logloss:0.63853\n",
      "[225]\ttrain-logloss:0.63155\teval-logloss:0.63852\n",
      "[226]\ttrain-logloss:0.63151\teval-logloss:0.63850\n",
      "[227]\ttrain-logloss:0.63150\teval-logloss:0.63849\n",
      "[228]\ttrain-logloss:0.63144\teval-logloss:0.63847\n",
      "[229]\ttrain-logloss:0.63143\teval-logloss:0.63845\n",
      "[230]\ttrain-logloss:0.63142\teval-logloss:0.63843\n",
      "[231]\ttrain-logloss:0.63142\teval-logloss:0.63843\n",
      "[232]\ttrain-logloss:0.63132\teval-logloss:0.63834\n",
      "[233]\ttrain-logloss:0.63131\teval-logloss:0.63834\n",
      "[234]\ttrain-logloss:0.63123\teval-logloss:0.63828\n",
      "[235]\ttrain-logloss:0.63111\teval-logloss:0.63818\n",
      "[236]\ttrain-logloss:0.63101\teval-logloss:0.63809\n",
      "[237]\ttrain-logloss:0.63096\teval-logloss:0.63802\n",
      "[238]\ttrain-logloss:0.63095\teval-logloss:0.63800\n",
      "[239]\ttrain-logloss:0.63088\teval-logloss:0.63797\n",
      "[240]\ttrain-logloss:0.63087\teval-logloss:0.63796\n",
      "[241]\ttrain-logloss:0.63080\teval-logloss:0.63789\n",
      "[242]\ttrain-logloss:0.63075\teval-logloss:0.63786\n",
      "[243]\ttrain-logloss:0.63072\teval-logloss:0.63783\n",
      "[244]\ttrain-logloss:0.63068\teval-logloss:0.63779\n",
      "[245]\ttrain-logloss:0.63063\teval-logloss:0.63776\n",
      "[246]\ttrain-logloss:0.63060\teval-logloss:0.63775\n",
      "[247]\ttrain-logloss:0.63055\teval-logloss:0.63770\n",
      "[248]\ttrain-logloss:0.63052\teval-logloss:0.63767\n",
      "[249]\ttrain-logloss:0.63047\teval-logloss:0.63765\n",
      "[250]\ttrain-logloss:0.63041\teval-logloss:0.63757\n",
      "[251]\ttrain-logloss:0.63041\teval-logloss:0.63758\n",
      "[252]\ttrain-logloss:0.63037\teval-logloss:0.63755\n",
      "[253]\ttrain-logloss:0.63033\teval-logloss:0.63751\n",
      "[254]\ttrain-logloss:0.63028\teval-logloss:0.63749\n",
      "[255]\ttrain-logloss:0.63024\teval-logloss:0.63748\n",
      "[256]\ttrain-logloss:0.63010\teval-logloss:0.63738\n",
      "[257]\ttrain-logloss:0.63003\teval-logloss:0.63730\n",
      "[258]\ttrain-logloss:0.62992\teval-logloss:0.63724\n",
      "[259]\ttrain-logloss:0.62986\teval-logloss:0.63718\n",
      "[260]\ttrain-logloss:0.62977\teval-logloss:0.63712\n",
      "[261]\ttrain-logloss:0.62972\teval-logloss:0.63707\n",
      "[262]\ttrain-logloss:0.62967\teval-logloss:0.63704\n",
      "[263]\ttrain-logloss:0.62958\teval-logloss:0.63695\n",
      "[264]\ttrain-logloss:0.62950\teval-logloss:0.63688\n",
      "[265]\ttrain-logloss:0.62946\teval-logloss:0.63683\n",
      "[266]\ttrain-logloss:0.62942\teval-logloss:0.63682\n",
      "[267]\ttrain-logloss:0.62941\teval-logloss:0.63681\n",
      "[268]\ttrain-logloss:0.62936\teval-logloss:0.63674\n",
      "[269]\ttrain-logloss:0.62933\teval-logloss:0.63672\n",
      "[270]\ttrain-logloss:0.62929\teval-logloss:0.63668\n",
      "[271]\ttrain-logloss:0.62923\teval-logloss:0.63664\n",
      "[272]\ttrain-logloss:0.62915\teval-logloss:0.63659\n",
      "[273]\ttrain-logloss:0.62911\teval-logloss:0.63656\n",
      "[274]\ttrain-logloss:0.62904\teval-logloss:0.63655\n",
      "[275]\ttrain-logloss:0.62897\teval-logloss:0.63651\n",
      "[276]\ttrain-logloss:0.62892\teval-logloss:0.63649\n",
      "[277]\ttrain-logloss:0.62888\teval-logloss:0.63644\n",
      "[278]\ttrain-logloss:0.62882\teval-logloss:0.63641\n",
      "[279]\ttrain-logloss:0.62877\teval-logloss:0.63640\n",
      "[280]\ttrain-logloss:0.62875\teval-logloss:0.63639\n",
      "[281]\ttrain-logloss:0.62874\teval-logloss:0.63638\n",
      "[282]\ttrain-logloss:0.62873\teval-logloss:0.63636\n",
      "[283]\ttrain-logloss:0.62873\teval-logloss:0.63636\n",
      "[284]\ttrain-logloss:0.62868\teval-logloss:0.63636\n",
      "[285]\ttrain-logloss:0.62867\teval-logloss:0.63633\n",
      "[286]\ttrain-logloss:0.62859\teval-logloss:0.63628\n",
      "[287]\ttrain-logloss:0.62856\teval-logloss:0.63627\n",
      "[288]\ttrain-logloss:0.62855\teval-logloss:0.63626\n",
      "[289]\ttrain-logloss:0.62851\teval-logloss:0.63625\n",
      "[290]\ttrain-logloss:0.62847\teval-logloss:0.63621\n",
      "[291]\ttrain-logloss:0.62843\teval-logloss:0.63621\n",
      "[292]\ttrain-logloss:0.62843\teval-logloss:0.63621\n",
      "[293]\ttrain-logloss:0.62842\teval-logloss:0.63621\n",
      "[294]\ttrain-logloss:0.62841\teval-logloss:0.63621\n",
      "[295]\ttrain-logloss:0.62839\teval-logloss:0.63619\n",
      "[296]\ttrain-logloss:0.62832\teval-logloss:0.63614\n",
      "[297]\ttrain-logloss:0.62827\teval-logloss:0.63613\n",
      "[298]\ttrain-logloss:0.62818\teval-logloss:0.63604\n",
      "[299]\ttrain-logloss:0.62814\teval-logloss:0.63603\n",
      "[300]\ttrain-logloss:0.62810\teval-logloss:0.63603\n",
      "[301]\ttrain-logloss:0.62802\teval-logloss:0.63595\n",
      "[302]\ttrain-logloss:0.62797\teval-logloss:0.63592\n",
      "[303]\ttrain-logloss:0.62792\teval-logloss:0.63587\n",
      "[304]\ttrain-logloss:0.62791\teval-logloss:0.63587\n",
      "[305]\ttrain-logloss:0.62790\teval-logloss:0.63587\n",
      "[306]\ttrain-logloss:0.62786\teval-logloss:0.63583\n",
      "[307]\ttrain-logloss:0.62782\teval-logloss:0.63580\n",
      "[308]\ttrain-logloss:0.62781\teval-logloss:0.63579\n",
      "[309]\ttrain-logloss:0.62781\teval-logloss:0.63579\n",
      "[310]\ttrain-logloss:0.62773\teval-logloss:0.63571\n",
      "[311]\ttrain-logloss:0.62770\teval-logloss:0.63570\n",
      "[312]\ttrain-logloss:0.62769\teval-logloss:0.63570\n",
      "[313]\ttrain-logloss:0.62769\teval-logloss:0.63570\n",
      "[314]\ttrain-logloss:0.62762\teval-logloss:0.63565\n",
      "[315]\ttrain-logloss:0.62756\teval-logloss:0.63558\n",
      "[316]\ttrain-logloss:0.62752\teval-logloss:0.63557\n",
      "[317]\ttrain-logloss:0.62745\teval-logloss:0.63550\n",
      "[318]\ttrain-logloss:0.62744\teval-logloss:0.63549\n",
      "[319]\ttrain-logloss:0.62743\teval-logloss:0.63548\n",
      "[320]\ttrain-logloss:0.62737\teval-logloss:0.63540\n",
      "[321]\ttrain-logloss:0.62728\teval-logloss:0.63534\n",
      "[322]\ttrain-logloss:0.62723\teval-logloss:0.63531\n",
      "[323]\ttrain-logloss:0.62716\teval-logloss:0.63525\n",
      "[324]\ttrain-logloss:0.62708\teval-logloss:0.63518\n",
      "[325]\ttrain-logloss:0.62703\teval-logloss:0.63517\n",
      "[326]\ttrain-logloss:0.62697\teval-logloss:0.63514\n",
      "[327]\ttrain-logloss:0.62692\teval-logloss:0.63511\n",
      "[328]\ttrain-logloss:0.62691\teval-logloss:0.63510\n",
      "[329]\ttrain-logloss:0.62684\teval-logloss:0.63505\n",
      "[330]\ttrain-logloss:0.62683\teval-logloss:0.63504\n",
      "[331]\ttrain-logloss:0.62683\teval-logloss:0.63503\n",
      "[332]\ttrain-logloss:0.62683\teval-logloss:0.63503\n",
      "[333]\ttrain-logloss:0.62682\teval-logloss:0.63502\n",
      "[334]\ttrain-logloss:0.62682\teval-logloss:0.63502\n",
      "[335]\ttrain-logloss:0.62681\teval-logloss:0.63502\n",
      "[336]\ttrain-logloss:0.62677\teval-logloss:0.63502\n",
      "[337]\ttrain-logloss:0.62670\teval-logloss:0.63495\n",
      "[338]\ttrain-logloss:0.62664\teval-logloss:0.63490\n",
      "[339]\ttrain-logloss:0.62660\teval-logloss:0.63482\n",
      "[340]\ttrain-logloss:0.62655\teval-logloss:0.63477\n",
      "[341]\ttrain-logloss:0.62651\teval-logloss:0.63474\n",
      "[342]\ttrain-logloss:0.62646\teval-logloss:0.63470\n",
      "[343]\ttrain-logloss:0.62640\teval-logloss:0.63469\n",
      "[344]\ttrain-logloss:0.62635\teval-logloss:0.63463\n",
      "[345]\ttrain-logloss:0.62630\teval-logloss:0.63464\n",
      "[346]\ttrain-logloss:0.62625\teval-logloss:0.63459\n",
      "[347]\ttrain-logloss:0.62619\teval-logloss:0.63456\n",
      "[348]\ttrain-logloss:0.62616\teval-logloss:0.63452\n",
      "[349]\ttrain-logloss:0.62612\teval-logloss:0.63444\n",
      "[350]\ttrain-logloss:0.62606\teval-logloss:0.63440\n",
      "[351]\ttrain-logloss:0.62603\teval-logloss:0.63437\n",
      "[352]\ttrain-logloss:0.62601\teval-logloss:0.63435\n",
      "[353]\ttrain-logloss:0.62597\teval-logloss:0.63436\n",
      "[354]\ttrain-logloss:0.62597\teval-logloss:0.63436\n",
      "[355]\ttrain-logloss:0.62596\teval-logloss:0.63435\n",
      "[356]\ttrain-logloss:0.62594\teval-logloss:0.63435\n",
      "[357]\ttrain-logloss:0.62588\teval-logloss:0.63431\n",
      "[358]\ttrain-logloss:0.62582\teval-logloss:0.63428\n",
      "[359]\ttrain-logloss:0.62582\teval-logloss:0.63427\n",
      "[360]\ttrain-logloss:0.62577\teval-logloss:0.63426\n",
      "[361]\ttrain-logloss:0.62572\teval-logloss:0.63420\n",
      "[362]\ttrain-logloss:0.62570\teval-logloss:0.63418\n",
      "[363]\ttrain-logloss:0.62564\teval-logloss:0.63414\n",
      "[364]\ttrain-logloss:0.62560\teval-logloss:0.63414\n",
      "[365]\ttrain-logloss:0.62557\teval-logloss:0.63414\n",
      "[366]\ttrain-logloss:0.62550\teval-logloss:0.63411\n",
      "[367]\ttrain-logloss:0.62548\teval-logloss:0.63411\n",
      "[368]\ttrain-logloss:0.62547\teval-logloss:0.63411\n",
      "[369]\ttrain-logloss:0.62542\teval-logloss:0.63409\n",
      "[370]\ttrain-logloss:0.62539\teval-logloss:0.63409\n",
      "[371]\ttrain-logloss:0.62534\teval-logloss:0.63406\n",
      "[372]\ttrain-logloss:0.62531\teval-logloss:0.63402\n",
      "[373]\ttrain-logloss:0.62525\teval-logloss:0.63398\n",
      "[374]\ttrain-logloss:0.62521\teval-logloss:0.63392\n",
      "[375]\ttrain-logloss:0.62519\teval-logloss:0.63390\n",
      "[376]\ttrain-logloss:0.62513\teval-logloss:0.63385\n",
      "[377]\ttrain-logloss:0.62510\teval-logloss:0.63382\n",
      "[378]\ttrain-logloss:0.62505\teval-logloss:0.63376\n",
      "[379]\ttrain-logloss:0.62500\teval-logloss:0.63370\n",
      "[380]\ttrain-logloss:0.62496\teval-logloss:0.63367\n",
      "[381]\ttrain-logloss:0.62491\teval-logloss:0.63366\n",
      "[382]\ttrain-logloss:0.62487\teval-logloss:0.63362\n",
      "[383]\ttrain-logloss:0.62484\teval-logloss:0.63358\n",
      "[384]\ttrain-logloss:0.62479\teval-logloss:0.63354\n",
      "[385]\ttrain-logloss:0.62475\teval-logloss:0.63348\n",
      "[386]\ttrain-logloss:0.62468\teval-logloss:0.63340\n",
      "[387]\ttrain-logloss:0.62467\teval-logloss:0.63339\n",
      "[388]\ttrain-logloss:0.62467\teval-logloss:0.63339\n",
      "[389]\ttrain-logloss:0.62463\teval-logloss:0.63334\n",
      "[390]\ttrain-logloss:0.62459\teval-logloss:0.63329\n",
      "[391]\ttrain-logloss:0.62454\teval-logloss:0.63327\n",
      "[392]\ttrain-logloss:0.62451\teval-logloss:0.63328\n",
      "[393]\ttrain-logloss:0.62446\teval-logloss:0.63323\n",
      "[394]\ttrain-logloss:0.62443\teval-logloss:0.63322\n",
      "[395]\ttrain-logloss:0.62440\teval-logloss:0.63319\n",
      "[396]\ttrain-logloss:0.62436\teval-logloss:0.63318\n",
      "[397]\ttrain-logloss:0.62435\teval-logloss:0.63318\n",
      "[398]\ttrain-logloss:0.62434\teval-logloss:0.63318\n",
      "[399]\ttrain-logloss:0.62433\teval-logloss:0.63316\n"
     ]
    }
   ],
   "source": [
    "# train 데이터 세트는 'train', evaluation(test) 데이터 세트는 'eval'\n",
    "wlist = [(dtrain, 'train'), (dtest,'eval')]\n",
    "# 하이퍼 파라미터와 early stopping 파라미터를 train() 함수의 파라미터로 전달\n",
    "xgb_model = xgb.train(params = params, dtrain=dtrain, num_boost_round=num_rounds, evals=wlist)"
   ]
  },
  {
   "cell_type": "code",
   "execution_count": 45,
   "id": "38f99a45-23ab-4af0-ab58-41173461059e",
   "metadata": {},
   "outputs": [],
   "source": [
    "pred_probs = xgb_model.predict(dtest)"
   ]
  },
  {
   "cell_type": "code",
   "execution_count": 46,
   "id": "941d34e4-054a-48b9-9ba5-cd7e1327d0db",
   "metadata": {},
   "outputs": [],
   "source": [
    "preds = [ 1 if x > 0.5 else 0 for x in pred_probs]"
   ]
  },
  {
   "cell_type": "markdown",
   "id": "34e0ef6b-1b42-44d0-95a5-d4e861ee2e22",
   "metadata": {},
   "source": [
    "<h3>예측 및 평가</h3>"
   ]
  },
  {
   "cell_type": "markdown",
   "id": "232e825a-f539-418f-93d6-96d0d5b1da8b",
   "metadata": {},
   "source": [
    "모델에서는 결과값이 확률로 주어지기 때문에, 예측확률이 0.5보다 크면 1, 그렇지 않으면 0으로 나누어 저장하였다."
   ]
  },
  {
   "cell_type": "code",
   "execution_count": 47,
   "id": "3b09ae67-c7dd-4f37-9ee8-fc739caf039f",
   "metadata": {},
   "outputs": [
    {
     "name": "stdout",
     "output_type": "stream",
     "text": [
      "정확도 : 0.6252, 정밀도 : 0.6336, 재현률 : 0.6081\n",
      "f1-score : 0.6206\n"
     ]
    }
   ],
   "source": [
    "metrics(y_test, preds)"
   ]
  },
  {
   "cell_type": "markdown",
   "id": "b80df8d8-cb72-4e11-8bd3-c11d9cc8ab42",
   "metadata": {},
   "source": [
    "단일 로지스틱 모델로 예측했을 때 보다 향상된 것을 확인할 수 있다."
   ]
  },
  {
   "cell_type": "code",
   "execution_count": 48,
   "id": "0529535b-25a6-492a-a8e2-94ede159ee5f",
   "metadata": {},
   "outputs": [
    {
     "data": {
      "image/png": "[encoded data removed]",
      "text/plain": [
       "<Figure size 432x288 with 2 Axes>"
      ]
     },
     "metadata": {
      "needs_background": "light"
     },
     "output_type": "display_data"
    }
   ],
   "source": [
    "cm=confusion_matrix(y_test, pred)\n",
    "sns.heatmap(cm, annot=True, linecolor = \"white\", linewidths = 0.5, xticklabels = ['Pre_NO', 'Pre_YES'], yticklabels = ['Act_NO', 'Act_YES'], fmt='d')\n",
    "plt.title(\"Confusion Matrix\")\n",
    "plt.show()"
   ]
  },
  {
   "cell_type": "code",
   "execution_count": 49,
   "id": "eed9598b-0746-46c6-804b-432b807bcbb2",
   "metadata": {},
   "outputs": [],
   "source": [
    "fpr, tpr, thresholds = roc_curve(y_test, preds)"
   ]
  },
  {
   "cell_type": "code",
   "execution_count": 50,
   "id": "b70e687f-9b3e-4e4e-9c1c-460d6b1635be",
   "metadata": {},
   "outputs": [
    {
     "data": {
      "text/plain": [
       "<function matplotlib.pyplot.show(close=None, block=None)>"
      ]
     },
     "execution_count": 50,
     "metadata": {},
     "output_type": "execute_result"
    },
    {
     "data": {
      "image/png": "[encoded data removed]",
      "text/plain": [
       "<Figure size 576x576 with 1 Axes>"
      ]
     },
     "metadata": {
      "needs_background": "light"
     },
     "output_type": "display_data"
    }
   ],
   "source": [
    "fig, ax = plt.subplots(figsize=(8, 8))\n",
    "plt.plot([0,1], [0,1], linestyle='--')\n",
    "plt.plot(fpr, tpr, marker='.')\n",
    "plt.xlabel('False Positive Rate', fontsize=13)\n",
    "plt.ylabel('True Positive Rate', fontsize=13)\n",
    "plt.title('ROC Curve', fontsize=15)\n",
    "plt.show"
   ]
  },
  {
   "cell_type": "code",
   "execution_count": 51,
   "id": "b5a84a24-862d-4f36-9bc2-fea94526f1f4",
   "metadata": {},
   "outputs": [
    {
     "data": {
      "text/plain": [
       "0.6253819808967768"
      ]
     },
     "execution_count": 51,
     "metadata": {},
     "output_type": "execute_result"
    }
   ],
   "source": [
    "roc_auc_score(y_test, preds)"
   ]
  },
  {
   "cell_type": "code",
   "execution_count": 52,
   "id": "5b2d67e2-2136-4aea-bf51-21548c834fc3",
   "metadata": {},
   "outputs": [
    {
     "data": {
      "text/plain": [
       "<AxesSubplot:title={'center':'Feature importance'}, xlabel='F score', ylabel='Features'>"
      ]
     },
     "execution_count": 52,
     "metadata": {},
     "output_type": "execute_result"
    },
    {
     "data": {
      "image/png": "[encoded data removed]",
      "text/plain": [
       "<Figure size 504x288 with 1 Axes>"
      ]
     },
     "metadata": {
      "needs_background": "light"
     },
     "output_type": "display_data"
    }
   ],
   "source": [
    "from xgboost import plot_importance\n",
    "import matplotlib.pyplot as plt\n",
    "%matplotlib inline\n",
    "\n",
    "fig, ax = plt.subplots(figsize=(7, 4))\n",
    "plot_importance(xgb_model, ax=ax)"
   ]
  },
  {
   "cell_type": "markdown",
   "id": "ed5430c2-757b-44a6-a1ed-9339ad0f9a17",
   "metadata": {},
   "source": [
    "F-score를 기반으로 특성중요도를 확인하였을 때, 나이가 가장 큰 영향을 끼치는 것을 확인할 수 있다."
   ]
  },
  {
   "cell_type": "code",
   "execution_count": 68,
   "id": "6f9d50a0-730c-461c-a12c-be8fe657f950",
   "metadata": {},
   "outputs": [
    {
     "data": {
      "image/png": "[encoded data removed]",
      "text/plain": [
       "<Figure size 3600x216 with 9 Axes>"
      ]
     },
     "metadata": {
      "needs_background": "light"
     },
     "output_type": "display_data"
    }
   ],
   "source": [
    "f, ax = plt.subplots(ncols=9, figsize = (50, 3))\n",
    "for num, age in enumerate(range(10,100,10)):\n",
    "    ager = data[(data['Age']>=age) & (data['Age']<age+10)]\n",
    "    sns.countplot(ager['Subscribed'], ax=ax[num], x='who')\n",
    "    ax[num].set_title(\"{}'s ager\".format(age))"
   ]
  },
  {
   "cell_type": "markdown",
   "id": "8060c849-78c3-4c39-a078-85f95076306d",
   "metadata": {},
   "source": [
    "시각적으로 보았을 때, 10대와 60대 이상(90대 제외) 연령대에서 구독 비율이 높게 나왔다.<br>\n",
    "하지만 각 연령별 집단의 수가 다르기 때문에, 연령별 구독한 사람의 수를 구해보았다."
   ]
  },
  {
   "cell_type": "code",
   "execution_count": 77,
   "id": "7e054ab7-37ab-4439-a1c8-74f94ae94a69",
   "metadata": {},
   "outputs": [
    {
     "name": "stdout",
     "output_type": "stream",
     "text": [
      "10's : 16\n",
      "20's : 777\n",
      "30's : 1493\n",
      "40's : 656\n",
      "50's : 541\n",
      "60's : 203\n",
      "70's : 115\n",
      "80's : 55\n",
      "90's : 0\n"
     ]
    }
   ],
   "source": [
    "for num, age in enumerate(range(10,100,10)):\n",
    "    # 숫자형 카테고리로 전처리한 pre_data 사용\n",
    "    ager = pre_data[(pre_data['Age']>=age) & (pre_data['Age']<age+10)]\n",
    "    print(\"{}'s :\".format(age), ager['Subscribed'].sum())"
   ]
  },
  {
   "cell_type": "markdown",
   "id": "22cb8b61-759b-484e-9419-9a98e0af7acb",
   "metadata": {},
   "source": [
    "구독한 사람의 수는 반대로 20대, 30대, 40대에서 높게 나타났다.<br>\n",
    "해당 연령의 구독 비중은 낮더라도 집단의 수가 크기 때문에 전체 구독한 사람 중 해당 연령의 비중으로 보았을 때는 높게 나타나는 것이다."
   ]
  },
  {
   "cell_type": "code",
   "execution_count": 86,
   "id": "715407ad-afe2-48a5-b53c-08afe8fd7b30",
   "metadata": {},
   "outputs": [
    {
     "name": "stdout",
     "output_type": "stream",
     "text": [
      "ratio\n",
      "10's :0.4211\n",
      "20's :0.1655\n",
      "30's :0.1099\n",
      "40's :0.0933\n",
      "50's :0.1275\n",
      "60's :0.402\n",
      "70's :0.4356\n",
      "80's :0.5046\n",
      "90's :0.0\n"
     ]
    }
   ],
   "source": [
    "# 각 연령별 구독 한 사람의 비중\n",
    "for num, age in enumerate(range(10,100,10)):\n",
    "    # 숫자형 카테고리로 전처리한 pre_data 사용\n",
    "    ager = pre_data[(pre_data['Age']>=age) & (pre_data['Age']<age+10)]\n",
    "    print(\"{}'s :{}\".format(age, round(ager['Subscribed'].sum()/ager['Subscribed'].count(), 4)))"
   ]
  },
  {
   "cell_type": "code",
   "execution_count": 88,
   "id": "11457aeb-a1bc-4f20-883c-8dd626a6713f",
   "metadata": {},
   "outputs": [
    {
     "name": "stdout",
     "output_type": "stream",
     "text": [
      "10's :0.0041\n",
      "20's :0.2015\n",
      "30's :0.3872\n",
      "40's :0.1701\n",
      "50's :0.1403\n",
      "60's :0.0526\n",
      "70's :0.0298\n",
      "80's :0.0143\n",
      "90's :0.0\n"
     ]
    }
   ],
   "source": [
    "# 구독 한 사람 중 각 연령의 비중\n",
    "for num, age in enumerate(range(10,100,10)):\n",
    "    # 숫자형 카테고리로 전처리한 pre_data 사용\n",
    "    ager = pre_data[(pre_data['Age']>=age) & (pre_data['Age']<age+10)]\n",
    "    print(\"{}'s :{}\".format(age, round(ager['Subscribed'].sum()/pre_data['Subscribed'].sum(), 4)))"
   ]
  }
 ],
 "metadata": {
  "kernelspec": {
   "display_name": "Python 3 (ipykernel)",
   "language": "python",
   "name": "python3"
  },
  "language_info": {
   "codemirror_mode": {
    "name": "ipython",
    "version": 3
   },
   "file_extension": ".py",
   "mimetype": "text/x-python",
   "name": "python",
   "nbconvert_exporter": "python",
   "pygments_lexer": "ipython3",
   "version": "3.9.7"
  }
 },
 "nbformat": 4,
 "nbformat_minor": 5
}
